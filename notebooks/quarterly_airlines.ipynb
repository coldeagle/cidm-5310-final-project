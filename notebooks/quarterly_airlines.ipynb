{
 "cells": [
  {
   "cell_type": "code",
   "execution_count": 42,
   "metadata": {
    "collapsed": true
   },
   "outputs": [
    {
     "name": "stdout",
     "output_type": "stream",
     "text": [
      "580vHdsC5liJR2S0l70tCFHun\n"
     ]
    },
    {
     "data": {
      "text/plain": "     year quarter          item_name                   uniquecarriername  \\\n9    2019       3  Net Income (Loss)                Delta Air Lines Inc.   \n15   2019       1  Net Income (Loss)              American Airlines Inc.   \n41   2019       1  Net Income (Loss)                Alaska Airlines Inc.   \n67   2019       1  Net Income (Loss)                     JetBlue Airways   \n92   2019       1  Net Income (Loss)                Delta Air Lines Inc.   \n118  2019       1  Net Income (Loss)  ExpressJet Airlines LLC d/b/a aha!   \n144  2019       1  Net Income (Loss)              Frontier Airlines Inc.   \n170  2019       1  Net Income (Loss)                       Allegiant Air   \n196  2019       1  Net Income (Loss)              Hawaiian Airlines Inc.   \n222  2019       1  Net Income (Loss)                           Envoy Air   \n246  2019       1  Net Income (Loss)                    Spirit Air Lines   \n270  2019       1  Net Income (Loss)               SkyWest Airlines Inc.   \n296  2019       1  Net Income (Loss)               United Air Lines Inc.   \n322  2019       1  Net Income (Loss)              Southwest Airlines Co.   \n348  2019       1  Net Income (Loss)                    Republic Airline   \n374  2019       1  Net Income (Loss)               United Parcel Service   \n398  2019       1  Net Income (Loss)                      Atlas Air Inc.   \n420  2019       1  Net Income (Loss)         Federal Express Corporation   \n445  2019       1  Net Income (Loss)                     Kalitta Air LLC   \n467  2019       1  Net Income (Loss)             Polar Air Cargo Airways   \n487  2019       2  Net Income (Loss)              American Airlines Inc.   \n513  2019       2  Net Income (Loss)                Alaska Airlines Inc.   \n538  2019       2  Net Income (Loss)                     JetBlue Airways   \n563  2019       2  Net Income (Loss)                Delta Air Lines Inc.   \n589  2019       2  Net Income (Loss)  ExpressJet Airlines LLC d/b/a aha!   \n615  2019       2  Net Income (Loss)              Frontier Airlines Inc.   \n641  2019       2  Net Income (Loss)                       Allegiant Air   \n666  2019       2  Net Income (Loss)              Hawaiian Airlines Inc.   \n692  2019       2  Net Income (Loss)                           Envoy Air   \n715  2019       2  Net Income (Loss)                    Spirit Air Lines   \n739  2019       2  Net Income (Loss)               SkyWest Airlines Inc.   \n765  2019       2  Net Income (Loss)               United Air Lines Inc.   \n791  2019       2  Net Income (Loss)              Southwest Airlines Co.   \n817  2019       2  Net Income (Loss)                    Republic Airline   \n843  2019       2  Net Income (Loss)               United Parcel Service   \n868  2019       2  Net Income (Loss)                      Atlas Air Inc.   \n890  2019       2  Net Income (Loss)         Federal Express Corporation   \n915  2019       2  Net Income (Loss)                     Kalitta Air LLC   \n937  2019       2  Net Income (Loss)             Polar Air Cargo Airways   \n957  2019       3  Net Income (Loss)              American Airlines Inc.   \n983  2019       3  Net Income (Loss)                Alaska Airlines Inc.   \n\n            val  \n9    1493988000  \n15   1651856155  \n41    510298000  \n67    141476033  \n92   4049513000  \n118   -20801795  \n144    82734835  \n170   197605904  \n196   253498918  \n222   -19275049  \n246   256746697  \n270   221238917  \n296  2276739884  \n322  2389485000  \n348    50094925  \n374   147731763  \n398     8456239  \n420  2013088000  \n445    58780955  \n467          -6  \n487  1746828644  \n513   551511000  \n538   440852467  \n563  4438949000  \n589   -55583274  \n615    96043859  \n641   232938895  \n666   232412156  \n692    -8040998  \n715   360002371  \n739   214046279  \n765  2644546423  \n791  2397298000  \n817    47893604  \n843   140572084  \n868    60481615  \n890  1829105000  \n915    38074602  \n937          -7  \n957  1852150291  \n983   632884000  ",
      "text/html": "<div>\n<style scoped>\n    .dataframe tbody tr th:only-of-type {\n        vertical-align: middle;\n    }\n\n    .dataframe tbody tr th {\n        vertical-align: top;\n    }\n\n    .dataframe thead th {\n        text-align: right;\n    }\n</style>\n<table border=\"1\" class=\"dataframe\">\n  <thead>\n    <tr style=\"text-align: right;\">\n      <th></th>\n      <th>year</th>\n      <th>quarter</th>\n      <th>item_name</th>\n      <th>uniquecarriername</th>\n      <th>val</th>\n    </tr>\n  </thead>\n  <tbody>\n    <tr>\n      <th>9</th>\n      <td>2019</td>\n      <td>3</td>\n      <td>Net Income (Loss)</td>\n      <td>Delta Air Lines Inc.</td>\n      <td>1493988000</td>\n    </tr>\n    <tr>\n      <th>15</th>\n      <td>2019</td>\n      <td>1</td>\n      <td>Net Income (Loss)</td>\n      <td>American Airlines Inc.</td>\n      <td>1651856155</td>\n    </tr>\n    <tr>\n      <th>41</th>\n      <td>2019</td>\n      <td>1</td>\n      <td>Net Income (Loss)</td>\n      <td>Alaska Airlines Inc.</td>\n      <td>510298000</td>\n    </tr>\n    <tr>\n      <th>67</th>\n      <td>2019</td>\n      <td>1</td>\n      <td>Net Income (Loss)</td>\n      <td>JetBlue Airways</td>\n      <td>141476033</td>\n    </tr>\n    <tr>\n      <th>92</th>\n      <td>2019</td>\n      <td>1</td>\n      <td>Net Income (Loss)</td>\n      <td>Delta Air Lines Inc.</td>\n      <td>4049513000</td>\n    </tr>\n    <tr>\n      <th>118</th>\n      <td>2019</td>\n      <td>1</td>\n      <td>Net Income (Loss)</td>\n      <td>ExpressJet Airlines LLC d/b/a aha!</td>\n      <td>-20801795</td>\n    </tr>\n    <tr>\n      <th>144</th>\n      <td>2019</td>\n      <td>1</td>\n      <td>Net Income (Loss)</td>\n      <td>Frontier Airlines Inc.</td>\n      <td>82734835</td>\n    </tr>\n    <tr>\n      <th>170</th>\n      <td>2019</td>\n      <td>1</td>\n      <td>Net Income (Loss)</td>\n      <td>Allegiant Air</td>\n      <td>197605904</td>\n    </tr>\n    <tr>\n      <th>196</th>\n      <td>2019</td>\n      <td>1</td>\n      <td>Net Income (Loss)</td>\n      <td>Hawaiian Airlines Inc.</td>\n      <td>253498918</td>\n    </tr>\n    <tr>\n      <th>222</th>\n      <td>2019</td>\n      <td>1</td>\n      <td>Net Income (Loss)</td>\n      <td>Envoy Air</td>\n      <td>-19275049</td>\n    </tr>\n    <tr>\n      <th>246</th>\n      <td>2019</td>\n      <td>1</td>\n      <td>Net Income (Loss)</td>\n      <td>Spirit Air Lines</td>\n      <td>256746697</td>\n    </tr>\n    <tr>\n      <th>270</th>\n      <td>2019</td>\n      <td>1</td>\n      <td>Net Income (Loss)</td>\n      <td>SkyWest Airlines Inc.</td>\n      <td>221238917</td>\n    </tr>\n    <tr>\n      <th>296</th>\n      <td>2019</td>\n      <td>1</td>\n      <td>Net Income (Loss)</td>\n      <td>United Air Lines Inc.</td>\n      <td>2276739884</td>\n    </tr>\n    <tr>\n      <th>322</th>\n      <td>2019</td>\n      <td>1</td>\n      <td>Net Income (Loss)</td>\n      <td>Southwest Airlines Co.</td>\n      <td>2389485000</td>\n    </tr>\n    <tr>\n      <th>348</th>\n      <td>2019</td>\n      <td>1</td>\n      <td>Net Income (Loss)</td>\n      <td>Republic Airline</td>\n      <td>50094925</td>\n    </tr>\n    <tr>\n      <th>374</th>\n      <td>2019</td>\n      <td>1</td>\n      <td>Net Income (Loss)</td>\n      <td>United Parcel Service</td>\n      <td>147731763</td>\n    </tr>\n    <tr>\n      <th>398</th>\n      <td>2019</td>\n      <td>1</td>\n      <td>Net Income (Loss)</td>\n      <td>Atlas Air Inc.</td>\n      <td>8456239</td>\n    </tr>\n    <tr>\n      <th>420</th>\n      <td>2019</td>\n      <td>1</td>\n      <td>Net Income (Loss)</td>\n      <td>Federal Express Corporation</td>\n      <td>2013088000</td>\n    </tr>\n    <tr>\n      <th>445</th>\n      <td>2019</td>\n      <td>1</td>\n      <td>Net Income (Loss)</td>\n      <td>Kalitta Air LLC</td>\n      <td>58780955</td>\n    </tr>\n    <tr>\n      <th>467</th>\n      <td>2019</td>\n      <td>1</td>\n      <td>Net Income (Loss)</td>\n      <td>Polar Air Cargo Airways</td>\n      <td>-6</td>\n    </tr>\n    <tr>\n      <th>487</th>\n      <td>2019</td>\n      <td>2</td>\n      <td>Net Income (Loss)</td>\n      <td>American Airlines Inc.</td>\n      <td>1746828644</td>\n    </tr>\n    <tr>\n      <th>513</th>\n      <td>2019</td>\n      <td>2</td>\n      <td>Net Income (Loss)</td>\n      <td>Alaska Airlines Inc.</td>\n      <td>551511000</td>\n    </tr>\n    <tr>\n      <th>538</th>\n      <td>2019</td>\n      <td>2</td>\n      <td>Net Income (Loss)</td>\n      <td>JetBlue Airways</td>\n      <td>440852467</td>\n    </tr>\n    <tr>\n      <th>563</th>\n      <td>2019</td>\n      <td>2</td>\n      <td>Net Income (Loss)</td>\n      <td>Delta Air Lines Inc.</td>\n      <td>4438949000</td>\n    </tr>\n    <tr>\n      <th>589</th>\n      <td>2019</td>\n      <td>2</td>\n      <td>Net Income (Loss)</td>\n      <td>ExpressJet Airlines LLC d/b/a aha!</td>\n      <td>-55583274</td>\n    </tr>\n    <tr>\n      <th>615</th>\n      <td>2019</td>\n      <td>2</td>\n      <td>Net Income (Loss)</td>\n      <td>Frontier Airlines Inc.</td>\n      <td>96043859</td>\n    </tr>\n    <tr>\n      <th>641</th>\n      <td>2019</td>\n      <td>2</td>\n      <td>Net Income (Loss)</td>\n      <td>Allegiant Air</td>\n      <td>232938895</td>\n    </tr>\n    <tr>\n      <th>666</th>\n      <td>2019</td>\n      <td>2</td>\n      <td>Net Income (Loss)</td>\n      <td>Hawaiian Airlines Inc.</td>\n      <td>232412156</td>\n    </tr>\n    <tr>\n      <th>692</th>\n      <td>2019</td>\n      <td>2</td>\n      <td>Net Income (Loss)</td>\n      <td>Envoy Air</td>\n      <td>-8040998</td>\n    </tr>\n    <tr>\n      <th>715</th>\n      <td>2019</td>\n      <td>2</td>\n      <td>Net Income (Loss)</td>\n      <td>Spirit Air Lines</td>\n      <td>360002371</td>\n    </tr>\n    <tr>\n      <th>739</th>\n      <td>2019</td>\n      <td>2</td>\n      <td>Net Income (Loss)</td>\n      <td>SkyWest Airlines Inc.</td>\n      <td>214046279</td>\n    </tr>\n    <tr>\n      <th>765</th>\n      <td>2019</td>\n      <td>2</td>\n      <td>Net Income (Loss)</td>\n      <td>United Air Lines Inc.</td>\n      <td>2644546423</td>\n    </tr>\n    <tr>\n      <th>791</th>\n      <td>2019</td>\n      <td>2</td>\n      <td>Net Income (Loss)</td>\n      <td>Southwest Airlines Co.</td>\n      <td>2397298000</td>\n    </tr>\n    <tr>\n      <th>817</th>\n      <td>2019</td>\n      <td>2</td>\n      <td>Net Income (Loss)</td>\n      <td>Republic Airline</td>\n      <td>47893604</td>\n    </tr>\n    <tr>\n      <th>843</th>\n      <td>2019</td>\n      <td>2</td>\n      <td>Net Income (Loss)</td>\n      <td>United Parcel Service</td>\n      <td>140572084</td>\n    </tr>\n    <tr>\n      <th>868</th>\n      <td>2019</td>\n      <td>2</td>\n      <td>Net Income (Loss)</td>\n      <td>Atlas Air Inc.</td>\n      <td>60481615</td>\n    </tr>\n    <tr>\n      <th>890</th>\n      <td>2019</td>\n      <td>2</td>\n      <td>Net Income (Loss)</td>\n      <td>Federal Express Corporation</td>\n      <td>1829105000</td>\n    </tr>\n    <tr>\n      <th>915</th>\n      <td>2019</td>\n      <td>2</td>\n      <td>Net Income (Loss)</td>\n      <td>Kalitta Air LLC</td>\n      <td>38074602</td>\n    </tr>\n    <tr>\n      <th>937</th>\n      <td>2019</td>\n      <td>2</td>\n      <td>Net Income (Loss)</td>\n      <td>Polar Air Cargo Airways</td>\n      <td>-7</td>\n    </tr>\n    <tr>\n      <th>957</th>\n      <td>2019</td>\n      <td>3</td>\n      <td>Net Income (Loss)</td>\n      <td>American Airlines Inc.</td>\n      <td>1852150291</td>\n    </tr>\n    <tr>\n      <th>983</th>\n      <td>2019</td>\n      <td>3</td>\n      <td>Net Income (Loss)</td>\n      <td>Alaska Airlines Inc.</td>\n      <td>632884000</td>\n    </tr>\n  </tbody>\n</table>\n</div>"
     },
     "execution_count": 42,
     "metadata": {},
     "output_type": "execute_result"
    }
   ],
   "source": [
    "import os\n",
    "from dotenv import load_dotenv\n",
    "import pandas as pd\n",
    "from sodapy import Socrata\n",
    "import matplotlib.pyplot as plt\n",
    "\n",
    "load_dotenv()\n",
    "\n",
    "socrata_domain = 'data.transportation.gov'\n",
    "socrata_dataset_identifier = 'evch-7vws'\n",
    "socrata_token = os.environ.get('APP-PUBLIC')\n",
    "print(socrata_token)\n",
    "client = Socrata(socrata_domain, socrata_token)\n",
    "results = client.get(\n",
    "    socrata_dataset_identifier,\n",
    "    select='year,quarter,item_name,uniquecarriername,val',\n",
    "    where=\"year = 2019 and uniquecarriername != ''\"\n",
    ")\n",
    "\n",
    "df = pd.DataFrame.from_dict(results)\n",
    "df.loc[df.item_name == 'Net Income (Loss)']\n",
    "\n"
   ]
  },
  {
   "cell_type": "code",
   "execution_count": 40,
   "outputs": [
    {
     "data": {
      "text/plain": "uniquecarriername\nAlaska Airlines Inc.                     510298000551511000632884000\nAllegiant Air                                     197605904232938895\nAmerican Airlines Inc.                165185615517468286441852150291\nAtlas Air Inc.                                       845623960481615\nDelta Air Lines Inc.                  149398800040495130004438949000\nEnvoy Air                                          -19275049-8040998\nExpressJet Airlines LLC d/b/a aha!                -20801795-55583274\nFederal Express Corporation                     20130880001829105000\nFrontier Airlines Inc.                              8273483596043859\nHawaiian Airlines Inc.                            253498918232412156\nJetBlue Airways                                   141476033440852467\nKalitta Air LLC                                     5878095538074602\nPolar Air Cargo Airways                                         -6-7\nRepublic Airline                                    5009492547893604\nSkyWest Airlines Inc.                             221238917214046279\nSouthwest Airlines Co.                          23894850002397298000\nSpirit Air Lines                                  256746697360002371\nUnited Air Lines Inc.                           22767398842644546423\nUnited Parcel Service                             147731763140572084\nName: val, dtype: object"
     },
     "execution_count": 40,
     "metadata": {},
     "output_type": "execute_result"
    }
   ],
   "source": [
    "df = pd.DataFrame.from_dict(results)\n",
    "df.loc[df.item_name == 'Net Income (Loss)'].groupby('uniquecarriername')['val'].sum()\n"
   ],
   "metadata": {
    "collapsed": false
   }
  }
 ],
 "metadata": {
  "kernelspec": {
   "display_name": "Python 3",
   "language": "python",
   "name": "python3"
  },
  "language_info": {
   "codemirror_mode": {
    "name": "ipython",
    "version": 2
   },
   "file_extension": ".py",
   "mimetype": "text/x-python",
   "name": "python",
   "nbconvert_exporter": "python",
   "pygments_lexer": "ipython2",
   "version": "2.7.6"
  }
 },
 "nbformat": 4,
 "nbformat_minor": 0
}
